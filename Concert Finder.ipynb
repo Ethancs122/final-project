{
 "cells": [
  {
   "cell_type": "code",
   "execution_count": 102,
   "metadata": {
    "collapsed": true
   },
   "outputs": [],
   "source": [
    "import spotipy\n",
    "import spotipy.util as util\n",
    "import bs4\n",
    "import urllib.request as url"
   ]
  },
  {
   "cell_type": "code",
   "execution_count": 103,
   "metadata": {},
   "outputs": [
    {
     "name": "stdout",
     "output_type": "stream",
     "text": [
      "\n",
      "\n",
      "            User authentication requires interaction with your\n",
      "            web browser. Once you enter your credentials and\n",
      "            give authorization, you will be redirected to\n",
      "            a url.  Paste that url you were directed to to\n",
      "            complete the authorization.\n",
      "\n",
      "        \n",
      "Opened https://accounts.spotify.com/authorize?client_id=d08338fcf59640419f47f75fc0e924c2&response_type=code&redirect_uri=http%3A%2F%2F127.0.0.1%3A8000%2Fconcerts%2Fmap%2F&scope=user-top-read in your browser\n",
      "\n",
      "\n",
      "Enter the URL you were redirected to: http://127.0.0.1:8000/concerts/map/?code=AQDF2bvjjLrs6CR9L192QzNcDaQVW6Ggf8pu96QiEa92wr38YW9Oeshehc0r9Vn_3AjcNXNquvjoBGuhEG32vfR80rladZ9eKyR796w2wsoG58-TZTEydAm8sgfGepd2A23AwU958X1WOSr3sJ9y5lC99h3gzrkbyU-WmbtNIoUQtdybey-mUkRbrag2hPDJcbFzmMVYZ2QE64_AT8Dku9Y0TwKrJKT8\n",
      "\n",
      "\n"
     ]
    }
   ],
   "source": [
    "# Shows the top artists for a user\n",
    "\n",
    "scope = 'user-top-read'\n",
    "\n",
    "username = 'thepitviper'\n",
    "\n",
    "token = util.prompt_for_user_token(username, scope, client_id='d08338fcf59640419f47f75fc0e924c2', client_secret='729483f1e7e3408bb8f53d1db65ccadf', redirect_uri='http://127.0.0.1:8000/concerts/map/')"
   ]
  },
  {
   "cell_type": "code",
   "execution_count": 104,
   "metadata": {
    "collapsed": true
   },
   "outputs": [],
   "source": [
    "top_artists = []\n",
    "\n",
    "sp = spotipy.Spotify(auth=token)\n",
    "items = sp.current_user_top_artists(time_range='long_term', limit=50)['items']\n",
    "for item in items:\n",
    "    top_artists.append(item['name'])"
   ]
  },
  {
   "cell_type": "code",
   "execution_count": 105,
   "metadata": {},
   "outputs": [],
   "source": [
    "def get_info(artist):\n",
    "    response_1 = url.urlopen('https://www.songkick.com/search?utf8=%E2%9C%93&type=initial&query={}'.format(url.quote(artist)))\n",
    "    html_1 = response_1.read()\n",
    "    soup_1 = bs4.BeautifulSoup(html_1, 'html.parser')\n",
    "    is_artist = soup_1.find('li', class_='artist')\n",
    "    if is_artist:\n",
    "        artist_url = 'https://www.songkick.com' + is_artist.find('a', class_='thumb')['href']\n",
    "        response_2 = url.urlopen(artist_url)\n",
    "        html_2 = response_2.read()\n",
    "        soup_2 = bs4.BeautifulSoup(html_2, 'html.parser')\n",
    "        on_tour = soup_2.find('li', class_='ontour').get_text()\n",
    "        if on_tour == 'On tour: yes':\n",
    "            concerts_url = artist_url + '/calendar'\n",
    "            response_3 = url.urlopen(concerts_url)\n",
    "            html_3 = response_3.read()\n",
    "            soup_3 = bs4.BeautifulSoup(html_3, 'html.parser')\n",
    "            times = [tag.get_text(strip=True) for tag in soup_3.find_all('li', class_=\"with-date\")]\n",
    "            tickets = ['https://www.songkick.com' + tag.parent['href'] for tag in soup_3.find_all('span', class_='button buy-tickets')]\n",
    "            addresses = [' '.join(tag.next_sibling.next_sibling.stripped_strings) for tag in soup_3.find_all('span', class_=\"venue-name\")]\n",
    "    return [[address, \"<a href='{}'>{}</a>\".format(ticket, time)] for address, ticket, time in zip(addresses, tickets, times)]"
   ]
  },
  {
   "cell_type": "code",
   "execution_count": 98,
   "metadata": {
    "scrolled": false
   },
   "outputs": [],
   "source": [
    "result = get_info(top_artists[1])"
   ]
  },
  {
   "cell_type": "code",
   "execution_count": 99,
   "metadata": {},
   "outputs": [
    {
     "name": "stdout",
     "output_type": "stream",
     "text": [
      "[['Dublin, Ireland East Link Bridge, North Wall Quay', \"<a href='https://www.songkick.com/concerts/31501999-kendrick-lamar-at-3arena'>Wednesday 07 February 2018</a>\"], ['Birmingham, UK Pendigo Lake', \"<a href='https://www.songkick.com/concerts/31501029-kendrick-lamar-at-genting-arena'>Friday 09 February 2018</a>\"], ['Manchester, UK Victoria Station', \"<a href='https://www.songkick.com/concerts/31501024-kendrick-lamar-at-manchester-arena'>Saturday 10 February 2018</a>\"], ['Glasgow, UK SECC, Exhibition Way', \"<a href='https://www.songkick.com/concerts/31501014-kendrick-lamar-at-sse-hydro'>Sunday 11 February 2018</a>\"], ['London, UK Millenium Way', \"<a href='https://www.songkick.com/concerts/31500929-kendrick-lamar-at-o2-arena'>Monday 12 February 2018</a>\"], ['London, UK Millenium Way', \"<a href='https://www.songkick.com/concerts/31501009-kendrick-lamar-at-o2-arena'>Tuesday 13 February 2018</a>\"], ['Frankfurt, Germany Ludwig-Erhard-Anlage 1', \"<a href='https://www.songkick.com/concerts/31502029-kendrick-lamar-at-festhalle-frankfurt'>Thursday 15 February 2018</a>\"], ['London, UK Arena Square, Engineers Way', \"<a href='https://www.songkick.com/concerts/31581604-kendrick-lamar-at-sse-arena-wembley'>Tuesday 20 February 2018</a>\"], ['Cologne, Germany Willy-Brandt-Platz 3', \"<a href='https://www.songkick.com/concerts/31502064-kendrick-lamar-at-lanxess-arena'>Thursday 22 February 2018</a>\"], ['Paris, France 8 boulevard de Bercy', \"<a href='https://www.songkick.com/concerts/31502114-kendrick-lamar-at-accorhotels-arena-popb'>Sunday 25 February 2018</a>\"], ['Antwerp, Belgium Schijnpoortweg 119', \"<a href='https://www.songkick.com/concerts/31502179-kendrick-lamar-at-sportpaleis'>Tuesday 27 February 2018</a>\"], ['Copenhagen, Denmark Hannemanns Allé 18', \"<a href='https://www.songkick.com/concerts/31502079-kendrick-lamar-at-royal-arena'>Thursday 01 March 2018</a>\"], ['Stockholm, Sweden Globentorget 2', \"<a href='https://www.songkick.com/concerts/31502159-kendrick-lamar-at-ericsson-globe-arena'>Saturday 03 March 2018</a>\"], ['Berlin, Germany Mühlenstraße 12-30', \"<a href='https://www.songkick.com/concerts/31522774-kendrick-lamar-at-mercedesbenz-arena'>Monday 05 March 2018</a>\"], ['Vancouver, BC, Canada 800 Griffiths Way', \"<a href='https://www.songkick.com/concerts/32569414-kendrick-lamar-at-rogers-arena'>Friday 04 May 2018</a>\"], ['Auburn, WA, US 40601 Auburn Enumclaw Road', \"<a href='https://www.songkick.com/concerts/32563539-isaiah-rashad-at-white-river-amphitheatre'>Saturday 05 May 2018</a>\"], ['Ridgefield, WA, US 17200 NE Delfel Rd.', \"<a href='https://www.songkick.com/concerts/32563544-isaiah-rashad-at-sunlight-supply-amphitheater'>Sunday 06 May 2018</a>\"], ['Oakland, CA, US 7000 Coliseum Way', \"<a href='https://www.songkick.com/concerts/32563549-jay-rock-at-oracle-arena'>Tuesday 08 May 2018</a>\"], ['Inglewood, CA, US 3900 W. Manchester Blvd.', \"<a href='https://www.songkick.com/concerts/32563574-jay-rock-at-forum'>Thursday 10 May 2018</a>\"], ['Chula Vista, CA, US 2050 Entertainment Cir.', \"<a href='https://www.songkick.com/concerts/32563639-jay-rock-at-mattress-firm-amphitheatre'>Sunday 13 May 2018</a>\"], ['Phoenix, AZ, US 2121 N. 83rd Ave.', \"<a href='https://www.songkick.com/concerts/32563654-jay-rock-at-akchin-pavilion'>Monday 14 May 2018</a>\"], ['Albuquerque, NM, US 5601 University Blvd SE,', \"<a href='https://www.songkick.com/concerts/32563669-jay-rock-at-isleta-amphitheater'>Tuesday 15 May 2018</a>\"], ['Dallas, TX, US 3839 S. Fitzhugh Ave.', \"<a href='https://www.songkick.com/concerts/32563674-jay-rock-at-starplex-pavilion'>Thursday 17 May 2018</a>\"], ['Austin, TX, US 9201 Circuit of the Americas Blvd.', \"<a href='https://www.songkick.com/concerts/32563704-jay-rock-at-austin360-amphitheater'>Friday 18 May 2018</a>\"], ['Gulf Shores, AL, US 1054 West Beach Boulevard', \"<a href='https://www.songkick.com/festivals/73701-hangout/id/31911509-hangout-festival-2018'>Friday 18 May 2018 – Sunday 20 May 2018</a>\"], ['The Woodlands, TX, US 2005 Lake Robbins Dr.', \"<a href='https://www.songkick.com/concerts/32563714-jay-rock-at-cynthia-woods-mitchell-pavilion'>Saturday 19 May 2018</a>\"], ['Tampa, FL, US 4802 US 301 North', \"<a href='https://www.songkick.com/concerts/32563739-jay-rock-at-midflorida-credit-union-amphitheatre'>Tuesday 22 May 2018</a>\"], ['West Palm Beach, FL, US 601-7 Sansburys Way', \"<a href='https://www.songkick.com/concerts/32563754-jay-rock-at-coral-sky-amphitheatre-at-the-south-florida-fairgrounds'>Wednesday 23 May 2018</a>\"], ['Atlanta, GA, US 2002 Lakewood Way', \"<a href='https://www.songkick.com/concerts/32563774-jay-rock-at-cellairis-amphitheatre-at-lakewood'>Friday 25 May 2018</a>\"], ['Raleigh, NC, US 3801 Rock Quarry Road', \"<a href='https://www.songkick.com/concerts/32573269-absoul-at-coastal-credit-union-music-park-at-walnut-creek'>Saturday 26 May 2018</a>\"], ['Virginia Beach, VA, US 3550 Cellar Door Way', \"<a href='https://www.songkick.com/concerts/32563799-jay-rock-at-veterans-united-home-loans-amphitheater'>Sunday 27 May 2018</a>\"], ['Manhattan, NY, US 7th Ave & 32nd St', \"<a href='https://www.songkick.com/concerts/32563804-jay-rock-at-madison-square-garden'>Tuesday 29 May 2018</a>\"], ['Wantagh, NY, US 1000 Ocean Pkwy.', \"<a href='https://www.songkick.com/concerts/32563814-jay-rock-at-northwell-health-at-jones-beach-theater'>Wednesday 30 May 2018</a>\"], ['Bristow, VA, US 7800 Cellar Door Drive', \"<a href='https://www.songkick.com/concerts/32563834-jay-rock-at-jiffy-lube-live'>Friday 01 June 2018</a>\"], ['Hershey, PA, US 100 West Hersheypark Drive', \"<a href='https://www.songkick.com/concerts/32563844-jay-rock-at-hersheypark-stadium'>Saturday 02 June 2018</a>\"], ['Darien Center, NY, US 9993 Alleghany Road', \"<a href='https://www.songkick.com/concerts/32563869-jay-rock-at-darien-lake-amphitheater'>Sunday 03 June 2018</a>\"], ['Hartford, CT, US 61 Savitt Way', \"<a href='https://www.songkick.com/concerts/32563899-jay-rock-at-xfinity-theatre'>Thursday 07 June 2018</a>\"], ['Camden, NJ, US 1 Harbour Blvd.', \"<a href='https://www.songkick.com/concerts/32563919-jay-rock-at-bb-and-t-pavilion'>Friday 08 June 2018</a>\"], ['Saratoga Springs, NY, US 108 Avenue of the Pines', \"<a href='https://www.songkick.com/concerts/32563939-jay-rock-at-saratoga-performing-arts-center'>Saturday 09 June 2018</a>\"], ['Clarkston, MI, US 7774 Sashabaw Rd', \"<a href='https://www.songkick.com/concerts/32563959-jay-rock-at-dte-energy-music-theatre'>Wednesday 13 June 2018</a>\"], ['Dover, DE, US 1131 N. Dupont Hwy', \"<a href='https://www.songkick.com/festivals/392088-firefly-music/id/32441409-firefly-music-festival-2018'>Thursday 14 June 2018 – Sunday 17 June 2018</a>\"], ['Tinley Park, IL, US 19100 S. Ridgeland Ave.', \"<a href='https://www.songkick.com/concerts/32563979-kendrick-lamar-at-hollywood-casino-amphitheatre'>Friday 15 June 2018</a>\"], ['Burgettstown, PA, US 665 Rt. 18', \"<a href='https://www.songkick.com/concerts/32563989-jay-rock-at-keybank-pavilion'>Saturday 16 June 2018</a>\"], ['Budapest, Hungary Iii. District, Óbudai-sziget', \"<a href='https://www.songkick.com/festivals/608-sziget/id/32562029-sziget-festival-2018'>Wednesday 08 August 2018 – Wednesday 15 August 2018</a>\"], ['Gothenburg, Sweden', \"<a href='https://www.songkick.com/festivals/44-way-out-west/id/32128964-way-out-west-festival-2018'>Thursday 09 August 2018 – Saturday 11 August 2018</a>\"]]\n"
     ]
    }
   ],
   "source": [
    "print(result)"
   ]
  },
  {
   "cell_type": "code",
   "execution_count": null,
   "metadata": {},
   "outputs": [],
   "source": []
  },
  {
   "cell_type": "code",
   "execution_count": null,
   "metadata": {},
   "outputs": [],
   "source": []
  },
  {
   "cell_type": "code",
   "execution_count": null,
   "metadata": {},
   "outputs": [],
   "source": []
  },
  {
   "cell_type": "code",
   "execution_count": null,
   "metadata": {},
   "outputs": [],
   "source": []
  },
  {
   "cell_type": "code",
   "execution_count": null,
   "metadata": {
    "collapsed": true
   },
   "outputs": [],
   "source": []
  }
 ],
 "metadata": {
  "kernelspec": {
   "display_name": "Python 3",
   "language": "python",
   "name": "python3"
  },
  "language_info": {
   "codemirror_mode": {
    "name": "ipython",
    "version": 3
   },
   "file_extension": ".py",
   "mimetype": "text/x-python",
   "name": "python",
   "nbconvert_exporter": "python",
   "pygments_lexer": "ipython3",
   "version": "3.6.1"
  }
 },
 "nbformat": 4,
 "nbformat_minor": 2
}
