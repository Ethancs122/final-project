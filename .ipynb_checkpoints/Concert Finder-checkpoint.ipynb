{
 "cells": [
  {
   "cell_type": "code",
   "execution_count": 1,
   "metadata": {
    "collapsed": true
   },
   "outputs": [],
   "source": [
    "import spotipy\n",
    "import spotipy.util as util\n",
    "import bs4\n",
    "import urllib.request as url\n",
    "import json\n",
    "import dateutil.parser"
   ]
  },
  {
   "cell_type": "code",
   "execution_count": 103,
   "metadata": {},
   "outputs": [
    {
     "name": "stdout",
     "output_type": "stream",
     "text": [
      "\n",
      "\n",
      "            User authentication requires interaction with your\n",
      "            web browser. Once you enter your credentials and\n",
      "            give authorization, you will be redirected to\n",
      "            a url.  Paste that url you were directed to to\n",
      "            complete the authorization.\n",
      "\n",
      "        \n",
      "Opened https://accounts.spotify.com/authorize?client_id=d08338fcf59640419f47f75fc0e924c2&response_type=code&redirect_uri=http%3A%2F%2F127.0.0.1%3A8000%2Fconcerts%2Fmap%2F&scope=user-top-read in your browser\n",
      "\n",
      "\n",
      "Enter the URL you were redirected to: http://127.0.0.1:8000/concerts/map/?code=AQDF2bvjjLrs6CR9L192QzNcDaQVW6Ggf8pu96QiEa92wr38YW9Oeshehc0r9Vn_3AjcNXNquvjoBGuhEG32vfR80rladZ9eKyR796w2wsoG58-TZTEydAm8sgfGepd2A23AwU958X1WOSr3sJ9y5lC99h3gzrkbyU-WmbtNIoUQtdybey-mUkRbrag2hPDJcbFzmMVYZ2QE64_AT8Dku9Y0TwKrJKT8\n",
      "\n",
      "\n"
     ]
    }
   ],
   "source": [
    "# Shows the top artists for a user\n",
    "\n",
    "scope = 'user-top-read'\n",
    "\n",
    "username = 'thepitviper'\n",
    "\n",
    "token = util.prompt_for_user_token(username, scope, client_id='d08338fcf59640419f47f75fc0e924c2', client_secret='729483f1e7e3408bb8f53d1db65ccadf', redirect_uri='http://127.0.0.1:8000/concerts/map/')"
   ]
  },
  {
   "cell_type": "code",
   "execution_count": 104,
   "metadata": {
    "collapsed": true
   },
   "outputs": [],
   "source": [
    "top_artists = []\n",
    "\n",
    "sp = spotipy.Spotify(auth=token)\n",
    "items = sp.current_user_top_artists(time_range='long_term', limit=50)['items']\n",
    "for item in items:\n",
    "    top_artists.append(item['name'])"
   ]
  },
  {
   "cell_type": "code",
   "execution_count": 105,
   "metadata": {
    "collapsed": true
   },
   "outputs": [],
   "source": [
    "#def get_info(artist):\n",
    "#    response_1 = url.urlopen('https://www.songkick.com/search?utf8=%E2%9C%93&type=initial&query={}'.format(url.quote(artist)))\n",
    "#    html_1 = response_1.read()\n",
    "#    soup_1 = bs4.BeautifulSoup(html_1, 'html.parser')\n",
    "#    is_artist = soup_1.find('li', class_='artist')\n",
    "#    if is_artist:\n",
    "#        artist_url = 'https://www.songkick.com' + is_artist.find('a', class_='thumb')['href']\n",
    "#        response_2 = url.urlopen(artist_url)\n",
    "#        html_2 = response_2.read()\n",
    "#        soup_2 = bs4.BeautifulSoup(html_2, 'html.parser')\n",
    "#        on_tour = soup_2.find('li', class_='ontour').get_text()\n",
    "#        if on_tour == 'On tour: yes':\n",
    "#            concerts_url = artist_url + '/calendar'\n",
    "#            response_3 = url.urlopen(concerts_url)\n",
    "#            html_3 = response_3.read()\n",
    "#            soup_3 = bs4.BeautifulSoup(html_3, 'html.parser')\n",
    "#            times = [tag.get_text(strip=True) for tag in soup_3.find_all('li', class_=\"with-date\")]\n",
    "#            tickets = ['https://www.songkick.com' + tag.parent['href'] for tag in soup_3.find_all('span', class_='button buy-tickets')]\n",
    "#            addresses = [' '.join(tag.next_sibling.next_sibling.stripped_strings) for tag in soup_3.find_all('span', class_=\"venue-name\")]\n",
    "#    return [[address, \"<a href='{}'>{}</a>\".format(ticket, time)] for address, ticket, time in zip(addresses, tickets, times)]"
   ]
  },
  {
   "cell_type": "code",
   "execution_count": 123,
   "metadata": {},
   "outputs": [],
   "source": [
    "def suffix(d):\n",
    "    #https://stackoverflow.com/questions/5891555/display-the-date-like-may-5th-using-pythons-strftime\n",
    "    return 'th' if 11<=d<=13 else {1:'st',2:'nd',3:'rd'}.get(d%10, 'th')"
   ]
  },
  {
   "cell_type": "code",
   "execution_count": 120,
   "metadata": {},
   "outputs": [],
   "source": [
    "def get_info(artist):\n",
    "    response = url.urlopen('http://api.songkick.com/api/3.0/search/artists.json?apikey=cXZIiAYhAxu4hSUU&query={}'\n",
    "                           .format(url.quote(artist.replace(' ', '_'))))\n",
    "    html = response.read()\n",
    "    results = json.loads(html)['resultsPage']['results']\n",
    "    if results:\n",
    "        artist = results['artist'][0]\n",
    "        if artist['onTourUntil']:\n",
    "            response = url.urlopen('http://api.songkick.com/api/3.0/artists/{}/calendar.json?apikey=cXZIiAYhAxu4hSUU'\n",
    "                                   .format(artist['id']))\n",
    "            html = response.read()\n",
    "            events = json.loads(html)['resultsPage']['results']['event']\n",
    "            data = [['Lat', 'Long', 'Link']]\n",
    "            for event in events:\n",
    "                lat = event['location']['lat']\n",
    "                lng = event['location']['lng']\n",
    "                uri = event['uri']\n",
    "                ISO_8601 = event['start']['datetime']\n",
    "                if ISO_8601:\n",
    "                    datetime = dateutil.parser.parse(ISO_8601)\n",
    "                    time = datetime.strftime('%A %B %-d{} at %-I:%M %p'.format(suffix(datetime.day)))\n",
    "                else:\n",
    "                    date = event['start']['date']\n",
    "                    datetime = dateutil.parser.parse(date)\n",
    "                    time = datetime.strftime('%A %B %-d{}'.format(suffix(datetime.day)))\n",
    "                data.append([lat, lng, \"<a href='{}'>{}</a>\".format(uri, time)])\n",
    "            return data\n",
    "    return []"
   ]
  },
  {
   "cell_type": "code",
   "execution_count": null,
   "metadata": {},
   "outputs": [],
   "source": []
  },
  {
   "cell_type": "code",
   "execution_count": null,
   "metadata": {
    "collapsed": true
   },
   "outputs": [],
   "source": []
  }
 ],
 "metadata": {
  "kernelspec": {
   "display_name": "Python 3",
   "language": "python",
   "name": "python3"
  },
  "language_info": {
   "codemirror_mode": {
    "name": "ipython",
    "version": 3
   },
   "file_extension": ".py",
   "mimetype": "text/x-python",
   "name": "python",
   "nbconvert_exporter": "python",
   "pygments_lexer": "ipython3",
   "version": "3.6.1"
  }
 },
 "nbformat": 4,
 "nbformat_minor": 2
}
