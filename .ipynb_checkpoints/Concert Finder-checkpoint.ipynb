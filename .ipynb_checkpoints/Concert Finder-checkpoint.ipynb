{
 "cells": [
  {
   "cell_type": "code",
   "execution_count": null,
   "metadata": {
    "collapsed": true
   },
   "outputs": [],
   "source": [
    "import spotipy\n",
    "import spotipy.util as util\n",
    "import bs4\n",
    "import urllib.request as url\n",
    "import re"
   ]
  },
  {
   "cell_type": "code",
   "execution_count": null,
   "metadata": {},
   "outputs": [
    {
     "name": "stdout",
     "output_type": "stream",
     "text": [
      "\n",
      "\n",
      "            User authentication requires interaction with your\n",
      "            web browser. Once you enter your credentials and\n",
      "            give authorization, you will be redirected to\n",
      "            a url.  Paste that url you were directed to to\n",
      "            complete the authorization.\n",
      "\n",
      "        \n",
      "Opened https://accounts.spotify.com/authorize?client_id=d08338fcf59640419f47f75fc0e924c2&response_type=code&redirect_uri=https%3A%2F%2Fipitman.github.io%2F&scope=user-top-read in your browser\n",
      "\n",
      "\n"
     ]
    }
   ],
   "source": [
    "# Shows the top artists for a user\n",
    "\n",
    "scope = 'user-top-read'\n",
    "\n",
    "username = 'thanmar'\n",
    "\n",
    "token = util.prompt_for_user_token(username, scope, client_id='d08338fcf59640419f47f75fc0e924c2', client_secret='729483f1e7e3408bb8f53d1db65ccadf', redirect_uri='https://ipitman.github.io/')"
   ]
  },
  {
   "cell_type": "code",
   "execution_count": null,
   "metadata": {
    "collapsed": true
   },
   "outputs": [],
   "source": [
    "top_artists = []\n",
    "\n",
    "sp = spotipy.Spotify(auth=token)\n",
    "items = sp.current_user_top_artists(time_range='long_term', limit=50)['items']\n",
    "for item in items:\n",
    "    top_artists.append(item['name'])"
   ]
  },
  {
   "cell_type": "code",
   "execution_count": 8,
   "metadata": {},
   "outputs": [
    {
     "name": "stdout",
     "output_type": "stream",
     "text": [
      "AJJ\n",
      "Belle & Sebastian\n",
      "Red Hot Chili Peppers\n",
      "Atmosphere\n",
      "AJR\n",
      "Gorillaz\n",
      "The Psychedelic Furs\n",
      "Vince Staples\n",
      "Weezer\n",
      "Courtney Barnett\n",
      "They Might Be Giants\n",
      "Rise Against\n",
      "Paul Weller\n",
      "Iron & Wine\n",
      "The Weeknd\n",
      "Childish Gambino\n",
      "Katy Perry\n",
      "Eminem\n",
      "James Taylor\n",
      "Neil Diamond\n",
      "Fitz and The Tantrums\n",
      "Imagine Dragons\n",
      "Flogging Molly\n",
      "Muse\n",
      "blink-182\n"
     ]
    }
   ],
   "source": [
    "artist_dict = {}\n",
    "\n",
    "for artist in top_artists:\n",
    "    response_1 = url.urlopen('https://www.songkick.com/search?utf8=%E2%9C%93&type=initial&query={}'.format(url.quote(artist)))\n",
    "    html_1 = response_1.read()\n",
    "    soup_1 = bs4.BeautifulSoup(html_1, 'html.parser')\n",
    "    is_artist = soup_1.find('li', class_='artist')\n",
    "    if is_artist:\n",
    "        artist_url = 'https://www.songkick.com' + is_artist.find('a', class_='thumb')['href']\n",
    "        response_2 = url.urlopen(artist_url)\n",
    "        html_2 = response_2.read()\n",
    "        soup_2 = bs4.BeautifulSoup(html_2, 'html.parser')\n",
    "        on_tour = soup_2.find('li', class_='ontour').get_text()\n",
    "        if on_tour == 'On tour: yes':\n",
    "            print(artist)\n",
    "            concerts_url = artist_url + '/calendar'\n",
    "            response_3 = url.urlopen(concerts_url)\n",
    "            html_3 = response_3.read()\n",
    "            soup_3 = bs4.BeautifulSoup(html_3, 'html.parser')\n",
    "            addresses = [re.sub('\\n([\\n ])+', ' ', tag.previous_element.previous_element + tag.get_text())[1:] for tag in soup_3.find_all('span', class_='street-address')]\n",
    "            artist_dict[artist] = addresses"
   ]
  },
  {
   "cell_type": "code",
   "execution_count": 13,
   "metadata": {
    "scrolled": false
   },
   "outputs": [
    {
     "data": {
      "text/plain": [
       "['Portland, OR, US 1401 North Wheeler Avenue',\n",
       " 'San Francisco, CA, US 1800 Mission St./333 14th St.',\n",
       " 'San Francisco, CA, US 1800 Mission St./333 14th St.',\n",
       " 'San Diego, CA, US 3500 Sports Arena Blvd.',\n",
       " 'Kansas City, MO, US 1228 Main Street',\n",
       " 'Dallas, TX, US 2713 Canton St',\n",
       " 'Atlanta, GA, US 285 Andrew Young International Blvd. NW',\n",
       " 'Miami, FL, US 400 Se 2nd Ave',\n",
       " 'Orlando, FL, US 4603 West Colonial Drive',\n",
       " \"Toronto, ON, Canada 100 Princes' Boulevard\",\n",
       " 'Montreal, QC, Canada 59 Sainte-Catherine St. E.',\n",
       " 'Pittsburgh, PA, US 400 North Shore Drive',\n",
       " 'New York, NY, US 7th Ave & 32nd Street',\n",
       " 'New York, NY, US 7th Ave & 32nd Street',\n",
       " 'Washington, DC, US 901 Wharf St SW',\n",
       " 'Detroit, MI, US 500 Temple Avenue',\n",
       " 'Madison, WI, US 1919 Alliant Energy Center Way',\n",
       " 'Chicago, IL, US 1106 W. Lawrence Ave.',\n",
       " 'Chicago, IL, US 1106 W. Lawrence Ave.',\n",
       " 'Milwaukee, WI, US 2401 W. Wisconsin Ave.',\n",
       " 'Indio, CA, US 81-800 51st Avenue',\n",
       " 'Indio, CA, US 81-800 51st Avenue',\n",
       " 'Dublin, Ireland Military Road, Dublin',\n",
       " 'Hilvarenbeek, Netherlands Beekse Bergen 1']"
      ]
     },
     "execution_count": 13,
     "metadata": {},
     "output_type": "execute_result"
    }
   ],
   "source": [
    "artist_dict['Vince Staples']"
   ]
  },
  {
   "cell_type": "code",
   "execution_count": 12,
   "metadata": {},
   "outputs": [
    {
     "data": {
      "text/plain": [
       "['AJJ',\n",
       " 'Belle & Sebastian',\n",
       " 'Sufjan Stevens',\n",
       " 'Knowmads',\n",
       " 'Green Day',\n",
       " 'Johnny Cash',\n",
       " 'Mumford & Sons',\n",
       " 'The Smiths',\n",
       " 'Red Hot Chili Peppers',\n",
       " 'Atmosphere',\n",
       " 'AJR',\n",
       " 'Gorillaz',\n",
       " 'The Psychedelic Furs',\n",
       " 'Yusuf / Cat Stevens',\n",
       " 'Lambchop',\n",
       " 'Twenty One Pilots',\n",
       " 'David Bowie',\n",
       " 'Vince Staples',\n",
       " 'Weezer',\n",
       " 'Courtney Barnett',\n",
       " 'They Might Be Giants',\n",
       " 'Georgie James',\n",
       " 'The Beatles',\n",
       " 'Dave Brubeck',\n",
       " 'Rise Against',\n",
       " 'Sia',\n",
       " 'Paul Weller',\n",
       " 'XTC',\n",
       " 'Iron & Wine',\n",
       " 'Fleetwood Mac',\n",
       " 'The Weeknd',\n",
       " 'Kanye West',\n",
       " 'Childish Gambino',\n",
       " 'Earl Sweatshirt',\n",
       " 'Katy Perry',\n",
       " 'Bruce Springsteen',\n",
       " 'Eminem',\n",
       " 'The Who',\n",
       " 'Frank Zappa',\n",
       " 'Daft Punk',\n",
       " 'James Taylor',\n",
       " 'Neil Diamond',\n",
       " 'Fitz and The Tantrums',\n",
       " 'Elliott Smith',\n",
       " 'Ween',\n",
       " 'Imagine Dragons',\n",
       " \"Pickin' On Series\",\n",
       " 'Flogging Molly',\n",
       " 'Muse',\n",
       " 'blink-182']"
      ]
     },
     "execution_count": 12,
     "metadata": {},
     "output_type": "execute_result"
    }
   ],
   "source": [
    "top_artists"
   ]
  },
  {
   "cell_type": "code",
   "execution_count": 1,
   "metadata": {},
   "outputs": [
    {
     "ename": "NameError",
     "evalue": "name 'top_artists' is not defined",
     "output_type": "error",
     "traceback": [
      "\u001b[0;31m---------------------------------------------------------------------------\u001b[0m",
      "\u001b[0;31mNameError\u001b[0m                                 Traceback (most recent call last)",
      "\u001b[0;32m<ipython-input-1-27e1c0a7e4e4>\u001b[0m in \u001b[0;36m<module>\u001b[0;34m()\u001b[0m\n\u001b[0;32m----> 1\u001b[0;31m \u001b[0;32mfor\u001b[0m \u001b[0martist\u001b[0m \u001b[0;32min\u001b[0m \u001b[0;34m[\u001b[0m\u001b[0mtop_artists\u001b[0m\u001b[0;34m[\u001b[0m\u001b[0;36m0\u001b[0m\u001b[0;34m]\u001b[0m\u001b[0;34m]\u001b[0m\u001b[0;34m:\u001b[0m\u001b[0;34m\u001b[0m\u001b[0m\n\u001b[0m\u001b[1;32m      2\u001b[0m     \u001b[0mresponse_1\u001b[0m \u001b[0;34m=\u001b[0m \u001b[0murl\u001b[0m\u001b[0;34m.\u001b[0m\u001b[0murlopen\u001b[0m\u001b[0;34m(\u001b[0m\u001b[0;34m'https://www.songkick.com/search?utf8=%E2%9C%93&type=initial&query={}'\u001b[0m\u001b[0;34m.\u001b[0m\u001b[0mformat\u001b[0m\u001b[0;34m(\u001b[0m\u001b[0murl\u001b[0m\u001b[0;34m.\u001b[0m\u001b[0mquote\u001b[0m\u001b[0;34m(\u001b[0m\u001b[0martist\u001b[0m\u001b[0;34m)\u001b[0m\u001b[0;34m)\u001b[0m\u001b[0;34m)\u001b[0m\u001b[0;34m\u001b[0m\u001b[0m\n\u001b[1;32m      3\u001b[0m     \u001b[0mhtml_1\u001b[0m \u001b[0;34m=\u001b[0m \u001b[0mresponse_1\u001b[0m\u001b[0;34m.\u001b[0m\u001b[0mread\u001b[0m\u001b[0;34m(\u001b[0m\u001b[0;34m)\u001b[0m\u001b[0;34m\u001b[0m\u001b[0m\n\u001b[1;32m      4\u001b[0m     \u001b[0msoup_1\u001b[0m \u001b[0;34m=\u001b[0m \u001b[0mbs4\u001b[0m\u001b[0;34m.\u001b[0m\u001b[0mBeautifulSoup\u001b[0m\u001b[0;34m(\u001b[0m\u001b[0mhtml_1\u001b[0m\u001b[0;34m,\u001b[0m \u001b[0;34m'html.parser'\u001b[0m\u001b[0;34m)\u001b[0m\u001b[0;34m\u001b[0m\u001b[0m\n\u001b[1;32m      5\u001b[0m     \u001b[0mis_artist\u001b[0m \u001b[0;34m=\u001b[0m \u001b[0msoup_1\u001b[0m\u001b[0;34m.\u001b[0m\u001b[0mfind\u001b[0m\u001b[0;34m(\u001b[0m\u001b[0;34m'li'\u001b[0m\u001b[0;34m,\u001b[0m \u001b[0mclass_\u001b[0m\u001b[0;34m=\u001b[0m\u001b[0;34m'artist'\u001b[0m\u001b[0;34m)\u001b[0m\u001b[0;34m\u001b[0m\u001b[0m\n",
      "\u001b[0;31mNameError\u001b[0m: name 'top_artists' is not defined"
     ]
    }
   ],
   "source": [
    "for artist in [top_artists[0]]:\n",
    "    response_1 = url.urlopen('https://www.songkick.com/search?utf8=%E2%9C%93&type=initial&query={}'.format(url.quote(artist)))\n",
    "    html_1 = response_1.read()\n",
    "    soup_1 = bs4.BeautifulSoup(html_1, 'html.parser')\n",
    "    is_artist = soup_1.find('li', class_='artist')\n",
    "    if is_artist:\n",
    "        artist_url = 'https://www.songkick.com' + is_artist.find('a', class_='thumb')['href']\n",
    "        response_2 = url.urlopen(artist_url)\n",
    "        html_2 = response_2.read()\n",
    "        soup_2 = bs4.BeautifulSoup(html_2, 'html.parser')\n",
    "        on_tour = soup_2.find('li', class_='ontour').get_text()\n",
    "        if on_tour == 'On tour: yes':\n",
    "            print(artist)\n",
    "            concerts_url = artist_url + '/calendar'\n",
    "            response_3 = url.urlopen(concerts_url)\n",
    "            html_3 = response_3.read()\n",
    "            soup_3 = bs4.BeautifulSoup(html_3, 'html.parser')\n",
    "            addresses = [re.sub('\\n([\\n ])+', ' ', tag.previous_element.previous_element + tag.get_text())[1:] for tag in soup_3.find_all('span', class_='street-address')]\n",
    "            artist_dict[artist] = addresses"
   ]
  },
  {
   "cell_type": "code",
   "execution_count": null,
   "metadata": {
    "collapsed": true
   },
   "outputs": [],
   "source": []
  }
 ],
 "metadata": {
  "kernelspec": {
   "display_name": "Python 3",
   "language": "python",
   "name": "python3"
  },
  "language_info": {
   "codemirror_mode": {
    "name": "ipython",
    "version": 3
   },
   "file_extension": ".py",
   "mimetype": "text/x-python",
   "name": "python",
   "nbconvert_exporter": "python",
   "pygments_lexer": "ipython3",
   "version": "3.6.1"
  }
 },
 "nbformat": 4,
 "nbformat_minor": 2
}
